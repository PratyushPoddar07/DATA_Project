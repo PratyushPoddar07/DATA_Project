{
 "cells": [
  {
   "cell_type": "code",
   "execution_count": 3,
   "id": "2d851f64-3ede-4752-af6e-203de0f416b5",
   "metadata": {},
   "outputs": [
    {
     "name": "stdout",
     "output_type": "stream",
     "text": [
      "Found existing installation: pandasai 2.4.0\n",
      "Uninstalling pandasai-2.4.0:\n",
      "  Successfully uninstalled pandasai-2.4.0\n",
      "Defaulting to user installation because normal site-packages is not writeable\n",
      "Collecting pandasai\n",
      "  Using cached pandasai-2.4.0-py3-none-any.whl.metadata (11 kB)\n",
      "Requirement already satisfied: astor<0.9.0,>=0.8.1 in c:\\users\\shuva\\appdata\\roaming\\python\\python312\\site-packages (from pandasai) (0.8.1)\n",
      "Requirement already satisfied: duckdb<2.0.0,>=1.0.0 in c:\\users\\shuva\\appdata\\roaming\\python\\python312\\site-packages (from pandasai) (1.1.3)\n",
      "Requirement already satisfied: faker<20.0.0,>=19.12.0 in c:\\users\\shuva\\appdata\\roaming\\python\\python312\\site-packages (from pandasai) (19.13.0)\n",
      "Requirement already satisfied: jinja2<4.0.0,>=3.1.3 in c:\\programdata\\anaconda3\\lib\\site-packages (from pandasai) (3.1.4)\n",
      "Requirement already satisfied: matplotlib<4.0.0,>=3.7.1 in c:\\programdata\\anaconda3\\lib\\site-packages (from pandasai) (3.8.4)\n",
      "Requirement already satisfied: openai<2 in c:\\users\\shuva\\appdata\\roaming\\python\\python312\\site-packages (from pandasai) (1.57.4)\n",
      "Requirement already satisfied: pandas==1.5.3 in c:\\users\\shuva\\appdata\\roaming\\python\\python312\\site-packages (from pandasai) (1.5.3)\n",
      "Requirement already satisfied: pillow<11.0.0,>=10.1.0 in c:\\programdata\\anaconda3\\lib\\site-packages (from pandasai) (10.3.0)\n",
      "Requirement already satisfied: pydantic<3,>=1 in c:\\programdata\\anaconda3\\lib\\site-packages (from pandasai) (2.5.3)\n",
      "Requirement already satisfied: python-dotenv<2.0.0,>=1.0.0 in c:\\users\\shuva\\appdata\\roaming\\python\\python312\\site-packages (from pandasai) (1.0.1)\n",
      "Requirement already satisfied: requests<3.0.0,>=2.31.0 in c:\\programdata\\anaconda3\\lib\\site-packages (from pandasai) (2.32.2)\n",
      "Requirement already satisfied: scipy<2.0.0,>=1.9.0 in c:\\programdata\\anaconda3\\lib\\site-packages (from pandasai) (1.13.1)\n",
      "Requirement already satisfied: sqlalchemy<3,>=1.4 in c:\\programdata\\anaconda3\\lib\\site-packages (from pandasai) (2.0.30)\n",
      "Requirement already satisfied: sqlglot<26.0.0,>=25.0.3 in c:\\users\\shuva\\appdata\\roaming\\python\\python312\\site-packages (from sqlglot[rs]<26.0.0,>=25.0.3->pandasai) (25.34.1)\n",
      "Requirement already satisfied: torch==2.4.1 in c:\\users\\shuva\\appdata\\roaming\\python\\python312\\site-packages (from pandasai) (2.4.1)\n",
      "Requirement already satisfied: numpy>=1.21.0 in c:\\programdata\\anaconda3\\lib\\site-packages (from pandas==1.5.3->pandasai) (1.26.4)\n",
      "Requirement already satisfied: python-dateutil>=2.8.1 in c:\\programdata\\anaconda3\\lib\\site-packages (from pandas==1.5.3->pandasai) (2.9.0.post0)\n",
      "Requirement already satisfied: pytz>=2020.1 in c:\\programdata\\anaconda3\\lib\\site-packages (from pandas==1.5.3->pandasai) (2024.1)\n",
      "Requirement already satisfied: filelock in c:\\programdata\\anaconda3\\lib\\site-packages (from torch==2.4.1->pandasai) (3.13.1)\n",
      "Requirement already satisfied: typing-extensions>=4.8.0 in c:\\programdata\\anaconda3\\lib\\site-packages (from torch==2.4.1->pandasai) (4.11.0)\n",
      "Requirement already satisfied: sympy in c:\\programdata\\anaconda3\\lib\\site-packages (from torch==2.4.1->pandasai) (1.12)\n",
      "Requirement already satisfied: networkx in c:\\programdata\\anaconda3\\lib\\site-packages (from torch==2.4.1->pandasai) (3.2.1)\n",
      "Requirement already satisfied: fsspec in c:\\programdata\\anaconda3\\lib\\site-packages (from torch==2.4.1->pandasai) (2024.3.1)\n",
      "Requirement already satisfied: setuptools in c:\\programdata\\anaconda3\\lib\\site-packages (from torch==2.4.1->pandasai) (69.5.1)\n",
      "Requirement already satisfied: MarkupSafe>=2.0 in c:\\programdata\\anaconda3\\lib\\site-packages (from jinja2<4.0.0,>=3.1.3->pandasai) (2.1.3)\n",
      "Requirement already satisfied: contourpy>=1.0.1 in c:\\programdata\\anaconda3\\lib\\site-packages (from matplotlib<4.0.0,>=3.7.1->pandasai) (1.2.0)\n",
      "Requirement already satisfied: cycler>=0.10 in c:\\programdata\\anaconda3\\lib\\site-packages (from matplotlib<4.0.0,>=3.7.1->pandasai) (0.11.0)\n",
      "Requirement already satisfied: fonttools>=4.22.0 in c:\\programdata\\anaconda3\\lib\\site-packages (from matplotlib<4.0.0,>=3.7.1->pandasai) (4.51.0)\n",
      "Requirement already satisfied: kiwisolver>=1.3.1 in c:\\programdata\\anaconda3\\lib\\site-packages (from matplotlib<4.0.0,>=3.7.1->pandasai) (1.4.4)\n",
      "Requirement already satisfied: packaging>=20.0 in c:\\programdata\\anaconda3\\lib\\site-packages (from matplotlib<4.0.0,>=3.7.1->pandasai) (23.2)\n",
      "Requirement already satisfied: pyparsing>=2.3.1 in c:\\programdata\\anaconda3\\lib\\site-packages (from matplotlib<4.0.0,>=3.7.1->pandasai) (3.0.9)\n",
      "Requirement already satisfied: anyio<5,>=3.5.0 in c:\\programdata\\anaconda3\\lib\\site-packages (from openai<2->pandasai) (4.2.0)\n",
      "Requirement already satisfied: distro<2,>=1.7.0 in c:\\programdata\\anaconda3\\lib\\site-packages (from openai<2->pandasai) (1.9.0)\n",
      "Requirement already satisfied: httpx<1,>=0.23.0 in c:\\users\\shuva\\appdata\\roaming\\python\\python312\\site-packages (from openai<2->pandasai) (0.28.1)\n",
      "Requirement already satisfied: jiter<1,>=0.4.0 in c:\\users\\shuva\\appdata\\roaming\\python\\python312\\site-packages (from openai<2->pandasai) (0.8.2)\n",
      "Requirement already satisfied: sniffio in c:\\programdata\\anaconda3\\lib\\site-packages (from openai<2->pandasai) (1.3.0)\n",
      "Requirement already satisfied: tqdm>4 in c:\\programdata\\anaconda3\\lib\\site-packages (from openai<2->pandasai) (4.66.4)\n",
      "Requirement already satisfied: annotated-types>=0.4.0 in c:\\programdata\\anaconda3\\lib\\site-packages (from pydantic<3,>=1->pandasai) (0.6.0)\n",
      "Requirement already satisfied: pydantic-core==2.14.6 in c:\\programdata\\anaconda3\\lib\\site-packages (from pydantic<3,>=1->pandasai) (2.14.6)\n",
      "Requirement already satisfied: charset-normalizer<4,>=2 in c:\\programdata\\anaconda3\\lib\\site-packages (from requests<3.0.0,>=2.31.0->pandasai) (2.0.4)\n",
      "Requirement already satisfied: idna<4,>=2.5 in c:\\programdata\\anaconda3\\lib\\site-packages (from requests<3.0.0,>=2.31.0->pandasai) (3.7)\n",
      "Requirement already satisfied: urllib3<3,>=1.21.1 in c:\\programdata\\anaconda3\\lib\\site-packages (from requests<3.0.0,>=2.31.0->pandasai) (2.2.2)\n",
      "Requirement already satisfied: certifi>=2017.4.17 in c:\\programdata\\anaconda3\\lib\\site-packages (from requests<3.0.0,>=2.31.0->pandasai) (2024.6.2)\n",
      "Requirement already satisfied: greenlet!=0.4.17 in c:\\programdata\\anaconda3\\lib\\site-packages (from sqlalchemy<3,>=1.4->pandasai) (3.0.1)\n",
      "Requirement already satisfied: sqlglotrs==0.3.0 in c:\\users\\shuva\\appdata\\roaming\\python\\python312\\site-packages (from sqlglot[rs]<26.0.0,>=25.0.3->pandasai) (0.3.0)\n",
      "Requirement already satisfied: httpcore==1.* in c:\\users\\shuva\\appdata\\roaming\\python\\python312\\site-packages (from httpx<1,>=0.23.0->openai<2->pandasai) (1.0.7)\n",
      "Requirement already satisfied: h11<0.15,>=0.13 in c:\\users\\shuva\\appdata\\roaming\\python\\python312\\site-packages (from httpcore==1.*->httpx<1,>=0.23.0->openai<2->pandasai) (0.14.0)\n",
      "Requirement already satisfied: six>=1.5 in c:\\programdata\\anaconda3\\lib\\site-packages (from python-dateutil>=2.8.1->pandas==1.5.3->pandasai) (1.16.0)\n",
      "Requirement already satisfied: colorama in c:\\programdata\\anaconda3\\lib\\site-packages (from tqdm>4->openai<2->pandasai) (0.4.6)\n",
      "Requirement already satisfied: mpmath>=0.19 in c:\\programdata\\anaconda3\\lib\\site-packages (from sympy->torch==2.4.1->pandasai) (1.3.0)\n",
      "Using cached pandasai-2.4.0-py3-none-any.whl (193 kB)\n",
      "Installing collected packages: pandasai\n",
      "Successfully installed pandasai-2.4.0\n"
     ]
    }
   ],
   "source": [
    "!pip uninstall pandasai -y\n",
    "!pip install --upgrade pandasai\n"
   ]
  },
  {
   "cell_type": "code",
   "execution_count": 4,
   "id": "140678cc-aa1b-472f-bfca-279bcdd46b5e",
   "metadata": {},
   "outputs": [
    {
     "name": "stdout",
     "output_type": "stream",
     "text": [
      "Name: pandasai\n",
      "Version: 2.4.0\n",
      "Summary: Chat with your database (SQL, CSV, pandas, polars, mongodb, noSQL, etc). PandasAI makes data analysis conversational using LLMs (GPT 3.5 / 4, Anthropic, VertexAI) and RAG.\n",
      "Home-page: \n",
      "Author: Gabriele Venturi\n",
      "Author-email: \n",
      "License: MIT\n",
      "Location: C:\\Users\\shuva\\AppData\\Roaming\\Python\\Python312\\site-packages\n",
      "Requires: astor, duckdb, faker, jinja2, matplotlib, openai, pandas, pillow, pydantic, python-dotenv, requests, scipy, sqlalchemy, sqlglot, torch\n",
      "Required-by: \n"
     ]
    }
   ],
   "source": [
    "!pip show pandasai\n"
   ]
  },
  {
   "cell_type": "code",
   "execution_count": 5,
   "id": "1bfad196-0ec9-4074-b2ea-5cf62996a73d",
   "metadata": {},
   "outputs": [
    {
     "ename": "ImportError",
     "evalue": "cannot import name 'PandasAI' from 'pandasai' (C:\\Users\\shuva\\AppData\\Roaming\\Python\\Python312\\site-packages\\pandasai\\__init__.py)",
     "output_type": "error",
     "traceback": [
      "\u001b[1;31m---------------------------------------------------------------------------\u001b[0m",
      "\u001b[1;31mImportError\u001b[0m                               Traceback (most recent call last)",
      "Cell \u001b[1;32mIn[5], line 1\u001b[0m\n\u001b[1;32m----> 1\u001b[0m \u001b[38;5;28;01mfrom\u001b[39;00m \u001b[38;5;21;01mpandasai\u001b[39;00m \u001b[38;5;28;01mimport\u001b[39;00m PandasAI\n\u001b[0;32m      2\u001b[0m \u001b[38;5;28;01mfrom\u001b[39;00m \u001b[38;5;21;01mpandasai\u001b[39;00m\u001b[38;5;21;01m.\u001b[39;00m\u001b[38;5;21;01mllm\u001b[39;00m\u001b[38;5;21;01m.\u001b[39;00m\u001b[38;5;21;01mopenai\u001b[39;00m \u001b[38;5;28;01mimport\u001b[39;00m OpenAI\n",
      "\u001b[1;31mImportError\u001b[0m: cannot import name 'PandasAI' from 'pandasai' (C:\\Users\\shuva\\AppData\\Roaming\\Python\\Python312\\site-packages\\pandasai\\__init__.py)"
     ]
    }
   ],
   "source": [
    "from pandasai import PandasAI\n",
    "from pandasai.llm.openai import OpenAI\n"
   ]
  },
  {
   "cell_type": "code",
   "execution_count": 6,
   "id": "17726059-bed2-460e-abba-66505d8ddfe6",
   "metadata": {},
   "outputs": [
    {
     "name": "stdout",
     "output_type": "stream",
     "text": [
      "pandasai                          2.4.0\n"
     ]
    }
   ],
   "source": [
    "!pip list | grep pandasai\n"
   ]
  },
  {
   "cell_type": "code",
   "execution_count": 7,
   "id": "5b5fc0fe-a946-44ab-95eb-a741c27b444c",
   "metadata": {},
   "outputs": [
    {
     "ename": "ImportError",
     "evalue": "cannot import name 'PandasAI' from 'pandasai' (C:\\Users\\shuva\\AppData\\Roaming\\Python\\Python312\\site-packages\\pandasai\\__init__.py)",
     "output_type": "error",
     "traceback": [
      "\u001b[1;31m---------------------------------------------------------------------------\u001b[0m",
      "\u001b[1;31mImportError\u001b[0m                               Traceback (most recent call last)",
      "Cell \u001b[1;32mIn[7], line 2\u001b[0m\n\u001b[0;32m      1\u001b[0m \u001b[38;5;28;01mimport\u001b[39;00m \u001b[38;5;21;01mpandas\u001b[39;00m \u001b[38;5;28;01mas\u001b[39;00m \u001b[38;5;21;01mpd\u001b[39;00m\n\u001b[1;32m----> 2\u001b[0m \u001b[38;5;28;01mfrom\u001b[39;00m \u001b[38;5;21;01mpandasai\u001b[39;00m \u001b[38;5;28;01mimport\u001b[39;00m PandasAI\n\u001b[0;32m      3\u001b[0m \u001b[38;5;28;01mfrom\u001b[39;00m \u001b[38;5;21;01mpandasai\u001b[39;00m\u001b[38;5;21;01m.\u001b[39;00m\u001b[38;5;21;01mllm\u001b[39;00m\u001b[38;5;21;01m.\u001b[39;00m\u001b[38;5;21;01mopenai\u001b[39;00m \u001b[38;5;28;01mimport\u001b[39;00m OpenAI\n\u001b[0;32m      5\u001b[0m \u001b[38;5;28mprint\u001b[39m(\u001b[38;5;124m\"\u001b[39m\u001b[38;5;124mPandasAI imported successfully!\u001b[39m\u001b[38;5;124m\"\u001b[39m)\n",
      "\u001b[1;31mImportError\u001b[0m: cannot import name 'PandasAI' from 'pandasai' (C:\\Users\\shuva\\AppData\\Roaming\\Python\\Python312\\site-packages\\pandasai\\__init__.py)"
     ]
    }
   ],
   "source": [
    "import pandas as pd\n",
    "from pandasai import PandasAI\n",
    "from pandasai.llm.openai import OpenAI\n",
    "\n",
    "print(\"PandasAI imported successfully!\")\n"
   ]
  },
  {
   "cell_type": "code",
   "execution_count": null,
   "id": "50188180-63d8-4aab-beaf-bffeb61be68f",
   "metadata": {},
   "outputs": [],
   "source": []
  }
 ],
 "metadata": {
  "kernelspec": {
   "display_name": "Python 3 (ipykernel)",
   "language": "python",
   "name": "python3"
  },
  "language_info": {
   "codemirror_mode": {
    "name": "ipython",
    "version": 3
   },
   "file_extension": ".py",
   "mimetype": "text/x-python",
   "name": "python",
   "nbconvert_exporter": "python",
   "pygments_lexer": "ipython3",
   "version": "3.12.4"
  }
 },
 "nbformat": 4,
 "nbformat_minor": 5
}
