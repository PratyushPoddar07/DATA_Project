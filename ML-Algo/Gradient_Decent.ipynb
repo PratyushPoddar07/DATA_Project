{
 "cells": [
  {
   "cell_type": "code",
   "execution_count": 1,
   "id": "55535981-5168-475e-b4a4-e1d7bd074fb1",
   "metadata": {},
   "outputs": [],
   "source": [
    "import numpy as np"
   ]
  },
  {
   "cell_type": "code",
   "execution_count": 30,
   "id": "5a91ce21-c8e6-4752-bb31-29050e78a143",
   "metadata": {},
   "outputs": [],
   "source": [
    "def gradient_descent(x,y):\n",
    "    m_curr = b_curr =0\n",
    "    iteration = 10\n",
    "    n = len(x)\n",
    "    learning_rate = 0.08\n",
    "    \n",
    "    for i in range(iteration):\n",
    "        y_predicted = m_curr * x +b_curr\n",
    "        cost_function =  (1/n) * sum ([val ** 2 for val in (y-y_predicted)])\n",
    "        m_derivative = -(2/n) * sum(x*(y-y_predicted))\n",
    "        b_derivative = -(2/n) * sum(y-y_predicted)\n",
    "        m_curr = m_curr -learning_rate * m_derivative\n",
    "        b_curr = b_curr - learning_rate * b_derivative\n",
    "        print(f\"m-> {m_curr},b -> {b_curr},cost -> {cost_function}iteration-> {i}\")"
   ]
  },
  {
   "cell_type": "code",
   "execution_count": 31,
   "id": "099e8b1b-7723-4f3c-ac1a-587755cb69ad",
   "metadata": {},
   "outputs": [
    {
     "name": "stdout",
     "output_type": "stream",
     "text": [
      "m-> 4.96,b -> 1.44,cost -> 89.0iteration-> 0\n",
      "m-> 0.4991999999999983,b -> 0.26879999999999993,cost -> 71.10560000000002iteration-> 1\n",
      "m-> 4.451584000000002,b -> 1.426176000000001,cost -> 56.8297702400001iteration-> 2\n",
      "m-> 0.892231679999997,b -> 0.5012275199999995,cost -> 45.43965675929613iteration-> 3\n",
      "m-> 4.041314713600002,b -> 1.432759910400001,cost -> 36.35088701894832iteration-> 4\n",
      "m-> 1.2008760606719973,b -> 0.7036872622079998,cost -> 29.097483330142282iteration-> 5\n",
      "m-> 3.7095643080294423,b -> 1.4546767911321612,cost -> 23.307872849944438iteration-> 6\n",
      "m-> 1.4424862661541864,b -> 0.881337636696883,cost -> 18.685758762535738iteration-> 7\n",
      "m-> 3.4406683721083144,b -> 1.4879302070713722,cost -> 14.994867596913156iteration-> 8\n",
      "m-> 1.6308855378034224,b -> 1.0383405553279617,cost -> 12.046787238456794iteration-> 9\n"
     ]
    }
   ],
   "source": [
    "x =np.array([1,2,3,4,5])\n",
    "y =np.array([5,7,9,11,13])\n",
    "gradient_descent(x,y)"
   ]
  },
  {
   "cell_type": "code",
   "execution_count": 32,
   "id": "8269e7d0-969d-4620-9803-4809e26bef9e",
   "metadata": {},
   "outputs": [
    {
     "name": "stderr",
     "output_type": "stream",
     "text": [
      "warning: in the working copy of 'ML-Algo/LinearRegression1.ipynb', LF will be replaced by CRLF the next time Git touches it\n",
      "warning: in the working copy of 'ML-Algo/.ipynb_checkpoints/Gradient_Decent-checkpoint.ipynb', LF will be replaced by CRLF the next time Git touches it\n",
      "warning: in the working copy of 'ML-Algo/Gradient_Decent.ipynb', LF will be replaced by CRLF the next time Git touches it\n"
     ]
    }
   ],
   "source": [
    "!git add ."
   ]
  },
  {
   "cell_type": "code",
   "execution_count": 33,
   "id": "9ba4e333-5353-459c-8dff-572bf706393b",
   "metadata": {},
   "outputs": [
    {
     "name": "stdout",
     "output_type": "stream",
     "text": [
      "[main 05942fe] gradient_decent\n",
      " 3 files changed, 10147 insertions(+), 4 deletions(-)\n",
      " create mode 100644 ML-Algo/.ipynb_checkpoints/Gradient_Decent-checkpoint.ipynb\n",
      " create mode 100644 ML-Algo/Gradient_Decent.ipynb\n"
     ]
    }
   ],
   "source": [
    "!git commit -m \"gradient_decent\""
   ]
  },
  {
   "cell_type": "code",
   "execution_count": 34,
   "id": "28732d60-079d-48d3-ab81-d76e596250b8",
   "metadata": {},
   "outputs": [
    {
     "name": "stderr",
     "output_type": "stream",
     "text": [
      "To https://github.com/PratyushPoddar07/DATA_Project.git\n",
      "   dd43939..05942fe  main -> main\n"
     ]
    }
   ],
   "source": [
    "!git push"
   ]
  },
  {
   "cell_type": "code",
   "execution_count": null,
   "id": "992d1d8f-5cd3-49d3-9972-3438ce088a1b",
   "metadata": {},
   "outputs": [],
   "source": []
  }
 ],
 "metadata": {
  "kernelspec": {
   "display_name": "Python 3 (ipykernel)",
   "language": "python",
   "name": "python3"
  },
  "language_info": {
   "codemirror_mode": {
    "name": "ipython",
    "version": 3
   },
   "file_extension": ".py",
   "mimetype": "text/x-python",
   "name": "python",
   "nbconvert_exporter": "python",
   "pygments_lexer": "ipython3",
   "version": "3.12.4"
  }
 },
 "nbformat": 4,
 "nbformat_minor": 5
}
